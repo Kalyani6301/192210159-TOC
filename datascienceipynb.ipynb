{
  "nbformat": 4,
  "nbformat_minor": 0,
  "metadata": {
    "colab": {
      "provenance": [],
      "authorship_tag": "ABX9TyM3zC9VVO9d6/BfqBUb/pTy",
      "include_colab_link": true
    },
    "kernelspec": {
      "name": "python3",
      "display_name": "Python 3"
    },
    "language_info": {
      "name": "python"
    }
  },
  "cells": [
    {
      "cell_type": "markdown",
      "metadata": {
        "id": "view-in-github",
        "colab_type": "text"
      },
      "source": [
        "<a href=\"https://colab.research.google.com/github/Kalyani6301/192210159-TOC/blob/main/datascienceipynb.ipynb\" target=\"_parent\"><img src=\"https://colab.research.google.com/assets/colab-badge.svg\" alt=\"Open In Colab\"/></a>"
      ]
    },
    {
      "cell_type": "code",
      "execution_count": null,
      "metadata": {
        "id": "SCq2eiTNpiZx"
      },
      "outputs": [],
      "source": [
        "#  1.Problem 1In a cricket tournament, based on the outcome of a particular match a team gets following points:wins gets 7 pointsdraws gets 2 points losses gets pointsTeam Aravali plays 8 matches in this tournament. It wins 4 matches, loses 3 matches and draws 1. What is the total number of points gained by the Team austria?\n",
        "\n",
        "#a.The outcome variables are defined below?\n",
        "\n",
        "#b.Calculate the total points gained by Team Austria and print.\n",
        "\n"
      ]
    },
    {
      "cell_type": "code",
      "source": [
        "# a)the account variables are defined below\n",
        "#define outcome variables\n",
        "win=4\n",
        "draw=1\n",
        "loss=3\n",
        "\n",
        "\n"
      ],
      "metadata": {
        "id": "1ZpCHqNvqNfr"
      },
      "execution_count": null,
      "outputs": []
    },
    {
      "cell_type": "code",
      "source": [
        "#define points tables of cricket\n",
        "winning_points=7\n",
        "draw_points=2\n",
        "loss_points=0"
      ],
      "metadata": {
        "id": "cnCVxL-bqNcG"
      },
      "execution_count": null,
      "outputs": []
    },
    {
      "cell_type": "code",
      "source": [
        "#b)total points gained by team austria\n",
        "total_points=(win*winning_points+draw*draw_points+loss*loss_points)\n",
        "print(total_points)"
      ],
      "metadata": {
        "colab": {
          "base_uri": "https://localhost:8080/"
        },
        "id": "vw3buvscqNaY",
        "outputId": "94dca53d-37cd-4be0-c029-245e150d4edf"
      },
      "execution_count": null,
      "outputs": [
        {
          "output_type": "stream",
          "name": "stdout",
          "text": [
            "30\n"
          ]
        }
      ]
    },
    {
      "cell_type": "code",
      "source": [
        "#Problem 2\n",
        "\n",
        "#Root of a function f(x) is defined as the value x where f(x)=0 Consider a quadratic function f(x)=x2+3x-4 where f(x)=0\n",
        "\n",
        "#Find the value of the function f(x) at points x=7, x=-1,x=1\n",
        "\n",
        "#a)Calculate the value of f the function f(x) f(x) at x=2.\n",
        "\n",
        "#b) Calculate the value of the function f(x) at x = 1"
      ],
      "metadata": {
        "id": "8jRLZQdYyNhY"
      },
      "execution_count": 2,
      "outputs": []
    },
    {
      "cell_type": "code",
      "source": [
        "#define the quadratic equation\n",
        "def f(x):\n",
        "  return x**2+3*x-4"
      ],
      "metadata": {
        "id": "lu9H_Y3yyNd6"
      },
      "execution_count": 3,
      "outputs": []
    },
    {
      "cell_type": "code",
      "source": [
        "#value of the function at the points x=7,x=-1,x=1.\n",
        "value_of_x_seven=f(7)\n",
        "value_of_x_minus_one=f(-1)\n",
        "value_of_x_one=f(1)\n"
      ],
      "metadata": {
        "id": "0BPERCOzzRYu"
      },
      "execution_count": 4,
      "outputs": []
    },
    {
      "cell_type": "code",
      "source": [
        "_#value of function f(x)at x=2\n",
        "value_of_x_two=f(2)"
      ],
      "metadata": {
        "id": "YL2aHK6Kzeug"
      },
      "execution_count": 5,
      "outputs": []
    },
    {
      "cell_type": "code",
      "source": [
        "#value of function f(x)at x=1\n",
        "value_of_x_one=f(1)"
      ],
      "metadata": {
        "id": "RJu8WHINz-Lz"
      },
      "execution_count": 6,
      "outputs": []
    },
    {
      "cell_type": "code",
      "source": [
        "print(value_of_x_two)\n",
        "print(value_of_x_one)\n"
      ],
      "metadata": {
        "colab": {
          "base_uri": "https://localhost:8080/"
        },
        "id": "3M9KO5-Dz-Ia",
        "outputId": "f4b051da-635b-4814-b6ed-ce735036e791"
      },
      "execution_count": 7,
      "outputs": [
        {
          "output_type": "stream",
          "name": "stdout",
          "text": [
            "6\n",
            "0\n"
          ]
        }
      ]
    },
    {
      "cell_type": "code",
      "source": [
        "#problem 3\"\"\"\"A list contains the averagw daily temperature (in degree Celsius) of a ciy over a particular week. Write a Python code to swap the highest and the lowest temperatures\n",
        "#a) A list containing average daily temperature over a week temperatures = [34, 40, 29, 33, 42, 37, 39 ]\n",
        "\n",
        "#b) The expected output\n",
        "\n",
        "#c) Store the highest temperature\n",
        "\n",
        "#d) Index of the element with the highest temperature max_temp_index =\n",
        "\n",
        "#e) Store the lowest temperature min_temp =\n",
        "\n",
        "#f) Index of the element with the lowest temperature min_temp_index ="
      ],
      "metadata": {
        "id": "WaUZz3u9z-GI"
      },
      "execution_count": 16,
      "outputs": []
    },
    {
      "cell_type": "code",
      "source": [
        "#list containing average daily temperature over a week temperature = [34,40,29,33,42,37,39]\n",
        "temperatures = [34,40,29,33,42,37,39]\n"
      ],
      "metadata": {
        "id": "A_RRq5fAz-EN"
      },
      "execution_count": 17,
      "outputs": []
    },
    {
      "cell_type": "code",
      "source": [
        "#c) store the highest temperature\n",
        "max_temp = max(temperatures)\n"
      ],
      "metadata": {
        "id": "kwZBHvQCTvyD"
      },
      "execution_count": 25,
      "outputs": []
    },
    {
      "cell_type": "code",
      "source": [
        "#d) index of the element with the highest temperature\n",
        "max_temp_index = temperatures.index(max_temp)\n"
      ],
      "metadata": {
        "id": "Y4qllvXvTvvv"
      },
      "execution_count": 26,
      "outputs": []
    },
    {
      "cell_type": "code",
      "source": [
        "#e) store the lowest temperature\n",
        "min_temp =min(temperatures)\n"
      ],
      "metadata": {
        "id": "BiEpyiK8Tvt4"
      },
      "execution_count": 27,
      "outputs": []
    },
    {
      "cell_type": "code",
      "source": [
        "#f) index of the element with the lowest temperature\n",
        "min_temp_index =temperatures.index(min_temp)\n",
        "\n"
      ],
      "metadata": {
        "id": "uDAqwn-VTvrY"
      },
      "execution_count": 28,
      "outputs": []
    },
    {
      "cell_type": "code",
      "source": [
        "#print the result of all\n",
        "print(temperatures)\n",
        "print(max_temp)\n",
        "print(max_temp_index)\n",
        "print(min_temp)\n",
        "print(min_temp_index)"
      ],
      "metadata": {
        "colab": {
          "base_uri": "https://localhost:8080/"
        },
        "id": "tc0DTQBtWMQR",
        "outputId": "1a788fbd-0a0b-41f6-b7fe-0a0de1003ccc"
      },
      "execution_count": 29,
      "outputs": [
        {
          "output_type": "stream",
          "name": "stdout",
          "text": [
            "[34, 40, 29, 33, 42, 37, 39]\n",
            "42\n",
            "4\n",
            "29\n",
            "2\n"
          ]
        }
      ]
    },
    {
      "cell_type": "code",
      "source": [
        "#PROBLEM 4 calculate the median price\n",
        "\n",
        "#a) Step 1 - Obtain th sorted list\n",
        "\n",
        "#b) Check if the number of elements in the list is even or odd\n",
        "\n",
        "#c) Use the corresponding formula to calculate the median and print the median\n",
        "\n",
        "#d) Check which is greater, mean or median\n"
      ],
      "metadata": {
        "id": "FzaOuiaLW-Sv"
      },
      "execution_count": 30,
      "outputs": []
    },
    {
      "cell_type": "code",
      "source": [
        "#given list of prices\n",
        "\n",
        "prices = [67, 65, 78, 24, 11, 80, 55, 30]\n",
        "\n",
        "print('original list is:',prices)\n",
        "\n"
      ],
      "metadata": {
        "colab": {
          "base_uri": "https://localhost:8080/"
        },
        "id": "QLIQ3gKRXa7K",
        "outputId": "8bf02132-6345-4574-8a40-ae2c33990141"
      },
      "execution_count": 32,
      "outputs": [
        {
          "output_type": "stream",
          "name": "stdout",
          "text": [
            "original list is: [67, 65, 78, 24, 11, 80, 55, 30]\n"
          ]
        }
      ]
    },
    {
      "cell_type": "code",
      "source": [
        "#  Sort the list\n",
        "sorted_prices = sorted(prices)\n"
      ],
      "metadata": {
        "id": "ZGXE30iVX-o1"
      },
      "execution_count": 33,
      "outputs": []
    },
    {
      "cell_type": "code",
      "source": [
        "#Check if the number of elements is even or odd\n",
        "num_prices = len(sorted_prices)\n",
        "is_even = num_prices % 2 == 0\n"
      ],
      "metadata": {
        "id": "o4YsFambX-lR"
      },
      "execution_count": 34,
      "outputs": []
    },
    {
      "cell_type": "code",
      "source": [
        "#Calculate the median\n",
        "if is_even:\n",
        "    median=(sorted_prices[num_prices//2-1] + sorted_prices[num_prices//2])/2\n",
        "else:\n",
        "    median=sorted_prices[num_prices//2]\n",
        "    #  Print the median\n",
        "print(\"Median price:\", median)\n",
        "    # Calculate mean\n",
        "mean=sum(sorted_prices)/num_prices\n",
        "\n"
      ],
      "metadata": {
        "colab": {
          "base_uri": "https://localhost:8080/"
        },
        "id": "651lUrLaX-jN",
        "outputId": "47899c6c-e462-4f03-ca11-04001c7db0a6"
      },
      "execution_count": 41,
      "outputs": [
        {
          "output_type": "stream",
          "name": "stdout",
          "text": [
            "Median price: 60.0\n"
          ]
        }
      ]
    },
    {
      "cell_type": "code",
      "source": [
        "#Check which is greater, mean or median\n",
        "if mean > median:\n",
        "    print(\"Mean is greater than median.\")\n",
        "elif median > mean:\n",
        "    print(\"Median is greater than mean.\")\n",
        "else:\n",
        "    print(\"Mean and median are equal.\")"
      ],
      "metadata": {
        "colab": {
          "base_uri": "https://localhost:8080/"
        },
        "id": "B7ifRk2zYzQh",
        "outputId": "df6726f3-bf82-49fc-dfaa-ab214cbf5636"
      },
      "execution_count": 42,
      "outputs": [
        {
          "output_type": "stream",
          "name": "stdout",
          "text": [
            "Median is greater than mean.\n"
          ]
        }
      ]
    },
    {
      "cell_type": "code",
      "source": [
        "#problem 5\n",
        "\n",
        "#Having a nested list sometines might be a bit problematic. An individual was asked to collect the names of companies in the technology sector. While creating the list, by mistake the last three companies were subsumed in a list as shown below. You are required to get rid of the nexting\n"
      ],
      "metadata": {
        "id": "lPh6pt9kZgYI"
      },
      "execution_count": 57,
      "outputs": []
    },
    {
      "cell_type": "code",
      "source": [
        "#a) The list of tech companies accurated by the individual tech_companies ['Qualcomm', 'Google', 'Apple',['Nvidia','Cisco','Samsung']]\n"
      ],
      "metadata": {
        "id": "6Q70BjpEZgUn"
      },
      "execution_count": 78,
      "outputs": []
    },
    {
      "cell_type": "code",
      "source": [
        "tech_companies = ['Qualcomm', 'Google', 'Apple', ['Nvidia', 'Cisco', 'Samsung']]\n"
      ],
      "metadata": {
        "id": "A5uWrvtTZgRV"
      },
      "execution_count": 48,
      "outputs": []
    },
    {
      "cell_type": "code",
      "source": [
        "# Flatten the nested list\n",
        "flattened_tech_companies = [company if isinstance(company, str) else company for sublist in tech_companies for company in sublist]\n",
        "\n"
      ],
      "metadata": {
        "id": "Wjor9jgYZgOV"
      },
      "execution_count": 49,
      "outputs": []
    },
    {
      "cell_type": "code",
      "source": [
        "# Print the flattened list\n",
        "print(flattened_tech_companies)"
      ],
      "metadata": {
        "colab": {
          "base_uri": "https://localhost:8080/"
        },
        "id": "QLPepH3FZgLt",
        "outputId": "e3b90f1e-2724-43bf-e179-369e6160e2e0"
      },
      "execution_count": 50,
      "outputs": [
        {
          "output_type": "stream",
          "name": "stdout",
          "text": [
            "['Q', 'u', 'a', 'l', 'c', 'o', 'm', 'm', 'G', 'o', 'o', 'g', 'l', 'e', 'A', 'p', 'p', 'l', 'e', 'Nvidia', 'Cisco', 'Samsung']\n"
          ]
        }
      ]
    },
    {
      "cell_type": "code",
      "source": [
        "#Problem 6\n",
        "\n",
        "#Another measure of average Mode is defined as the value that appears most often in a set of data values. Mode corresponds to the most frequent value. You are given a list of numbers and you need to calculate the node of this list.\n",
        "\n",
        "#A list containing average daily temperature over 10 days.\n",
        "temperatures = 134, 40, 29, 29, 33, 42, 40, 39, 34, 34,331\n"
      ],
      "metadata": {
        "id": "5Zohxsc_ZgIw"
      },
      "execution_count": 53,
      "outputs": []
    },
    {
      "cell_type": "code",
      "source": [
        "from statistics import mode\n",
        "temperatures = [134, 40, 29, 29, 33, 42, 40, 39, 34, 34, 331]\n",
        "\n",
        "\n"
      ],
      "metadata": {
        "id": "c9FkUNPVZgGJ"
      },
      "execution_count": 64,
      "outputs": []
    },
    {
      "cell_type": "code",
      "source": [
        "# Calculate the mode\n",
        "mode_value = mode(temperatures)"
      ],
      "metadata": {
        "id": "42jjgHxkdacF"
      },
      "execution_count": 65,
      "outputs": []
    },
    {
      "cell_type": "code",
      "source": [
        "\n",
        "# Print the mode\n",
        "print(\"Mode:\", mode_value)"
      ],
      "metadata": {
        "colab": {
          "base_uri": "https://localhost:8080/"
        },
        "id": "rFNcutAaZgDY",
        "outputId": "d3316f30-70d7-4fc4-94b9-e75881067337"
      },
      "execution_count": 66,
      "outputs": [
        {
          "output_type": "stream",
          "name": "stdout",
          "text": [
            "Mode: 40\n"
          ]
        }
      ]
    },
    {
      "cell_type": "code",
      "source": [
        "#Problem 7 numpy\n",
        "#Construct a 2-d 10a^-10 matrix with the following constraints:\n",
        "#The element at [0,0] should be 1\n",
        "#The element at [0,9] should be 100\n",
        "#The element at [9,0]should be 50\n",
        "#The interval between elements in rows should be constant\n",
        "#The interval between elements in columns should be constant\n",
        "\n"
      ],
      "metadata": {
        "id": "oByGeZWYZf_k"
      },
      "execution_count": 79,
      "outputs": []
    },
    {
      "cell_type": "code",
      "source": [
        "import numpy as np\n",
        "# Define the constraints\n",
        "a = 10\n",
        "start_value = 1\n",
        "end_value_row = 100\n",
        "end_value_col = 50\n",
        "num_rows = 10\n",
        "num_cols = 10\n"
      ],
      "metadata": {
        "id": "BZH8NpfEf3pk"
      },
      "execution_count": 83,
      "outputs": []
    },
    {
      "cell_type": "code",
      "source": [
        "# Calculate the common ratio for the geometric progression\n",
        "common_ratio_row = (end_value_row / start_value) ** (1 / (num_cols - 1))\n",
        "common_ratio_col = (end_value_col / start_value) ** (1 / (num_rows - 1))"
      ],
      "metadata": {
        "id": "WdPzazssf3mD"
      },
      "execution_count": 84,
      "outputs": []
    },
    {
      "cell_type": "code",
      "source": [
        "# Create the 2D matrix\n",
        "matrix = np.zeros((num_rows, num_cols))"
      ],
      "metadata": {
        "id": "KosfVWuUf3hs"
      },
      "execution_count": 85,
      "outputs": []
    },
    {
      "cell_type": "code",
      "source": [
        "for i in range(num_rows):\n",
        "    for j in range(num_cols):\n",
        "        matrix[i, j] = start_value * (common_ratio_row ** j) * (common_ratio_col ** i)\n"
      ],
      "metadata": {
        "id": "cIwrWy91gASd"
      },
      "execution_count": 86,
      "outputs": []
    },
    {
      "cell_type": "code",
      "source": [
        "# Print the resulting matrix\n",
        "print(matrix)"
      ],
      "metadata": {
        "colab": {
          "base_uri": "https://localhost:8080/"
        },
        "id": "lM0cCd77Zf8i",
        "outputId": "e1650b68-00a3-4545-96e9-5f7532a3919f"
      },
      "execution_count": 87,
      "outputs": [
        {
          "output_type": "stream",
          "name": "stdout",
          "text": [
            "[[1.00000000e+00 1.66810054e+00 2.78255940e+00 4.64158883e+00\n",
            "  7.74263683e+00 1.29154967e+01 2.15443469e+01 3.59381366e+01\n",
            "  5.99484250e+01 1.00000000e+02]\n",
            " [1.54445210e+00 2.57630139e+00 4.29752973e+00 7.16871164e+00\n",
            "  1.19581317e+01 1.99473660e+01 3.32742119e+01 5.55047308e+01\n",
            "  9.25874712e+01 1.54445210e+02]\n",
            " [2.38533230e+00 3.97897410e+00 6.63732883e+00 1.10717318e+01\n",
            "  1.84687617e+01 3.08077514e+01 5.13904266e+01 8.57243983e+01\n",
            "  1.42996915e+02 2.38533230e+02]\n",
            " [3.68403150e+00 6.14533492e+00 1.02510365e+01 1.70997595e+01\n",
            "  2.85241180e+01 4.75810965e+01 7.93700526e+01 1.32397227e+02\n",
            "  2.20851886e+02 3.68403150e+02]\n",
            " [5.68981020e+00 9.49117546e+00 1.58322349e+01 2.64097595e+01\n",
            "  4.40541340e+01 7.34867246e+01 1.22583245e+02 2.04481177e+02\n",
            "  3.41095160e+02 5.68981020e+02]\n",
            " [8.78763934e+00 1.46586659e+01 2.44521285e+01 4.07886087e+01\n",
            "  6.80395000e+01 1.13496727e+02 1.89323950e+02 3.15811383e+02\n",
            "  5.26805138e+02 8.78763934e+02]\n",
            " [1.35720881e+01 2.26396074e+01 3.77651413e+01 6.29960525e+01\n",
            "  1.05083749e+02 1.75290258e+02 2.92401774e+02 4.87755556e+02\n",
            "  8.13625305e+02 1.35720881e+03]\n",
            " [2.09614400e+01 3.49657893e+01 5.83264520e+01 9.72943859e+01\n",
            "  1.62296817e+02 2.70727408e+02 4.51600535e+02 7.53315095e+02\n",
            "  1.25660531e+03 2.09614400e+03]\n",
            " [3.23739401e+01 5.40029869e+01 9.00824115e+01 1.50266519e+02\n",
            "  2.50659661e+02 4.18125515e+02 6.97475397e+02 1.16345908e+03\n",
            "  1.94076672e+03 3.23739401e+03]\n",
            " [5.00000000e+01 8.34050269e+01 1.39127970e+02 2.32079442e+02\n",
            "  3.87131841e+02 6.45774833e+02 1.07721735e+03 1.79690683e+03\n",
            "  2.99742125e+03 5.00000000e+03]]\n"
          ]
        }
      ]
    },
    {
      "cell_type": "code",
      "source": [
        "#problem 8 numpy\n",
        "#Construct a list of first 100 natural numbers.Create a two dimensional array with 10 rows and whose each row contains 10 columns and each number in this array is the square of the number from your constructed list.\n",
        " #For example [[1,4,9......,100] [121,144......]..........]"
      ],
      "metadata": {
        "id": "YgG-HZBmp2FU"
      },
      "execution_count": 88,
      "outputs": []
    },
    {
      "cell_type": "code",
      "source": [
        "import numpy as np\n",
        "\n",
        "# Construct a list of first 100 natural numbers\n",
        "natural_numbers = np.arange(1, 101)\n",
        "\n",
        "\n"
      ],
      "metadata": {
        "id": "tMPkgm-3q28F"
      },
      "execution_count": 89,
      "outputs": []
    },
    {
      "cell_type": "code",
      "source": [
        "# Reshape the list into a two-dimensional array with 10 rows and 10 columns\n",
        "two_dimensional_array = natural_numbers.reshape(10, 10)\n",
        "\n"
      ],
      "metadata": {
        "id": "fJp3AMtwq24r"
      },
      "execution_count": 90,
      "outputs": []
    },
    {
      "cell_type": "code",
      "source": [
        "# Square each element in the array\n",
        "squared_array = np.square(two_dimensional_array)\n",
        "\n"
      ],
      "metadata": {
        "id": "vUQHcRsaq22X"
      },
      "execution_count": 91,
      "outputs": []
    },
    {
      "cell_type": "code",
      "source": [
        "# Print the resulting array\n",
        "print(squared_array)"
      ],
      "metadata": {
        "colab": {
          "base_uri": "https://localhost:8080/"
        },
        "id": "KxYndqSsq-e5",
        "outputId": "5bf30f67-0d8f-4b90-b460-c7ab0d0a828a"
      },
      "execution_count": 92,
      "outputs": [
        {
          "output_type": "stream",
          "name": "stdout",
          "text": [
            "[[    1     4     9    16    25    36    49    64    81   100]\n",
            " [  121   144   169   196   225   256   289   324   361   400]\n",
            " [  441   484   529   576   625   676   729   784   841   900]\n",
            " [  961  1024  1089  1156  1225  1296  1369  1444  1521  1600]\n",
            " [ 1681  1764  1849  1936  2025  2116  2209  2304  2401  2500]\n",
            " [ 2601  2704  2809  2916  3025  3136  3249  3364  3481  3600]\n",
            " [ 3721  3844  3969  4096  4225  4356  4489  4624  4761  4900]\n",
            " [ 5041  5184  5329  5476  5625  5776  5929  6084  6241  6400]\n",
            " [ 6561  6724  6889  7056  7225  7396  7569  7744  7921  8100]\n",
            " [ 8281  8464  8649  8836  9025  9216  9409  9604  9801 10000]]\n"
          ]
        }
      ]
    }
  ]
}